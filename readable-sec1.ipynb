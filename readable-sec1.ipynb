{
 "cells": [
  {
   "cell_type": "code",
   "execution_count": 1,
   "metadata": {},
   "outputs": [],
   "source": [
    "import os\n",
    "import cv2\n",
    "import time "
   ]
  },
  {
   "cell_type": "code",
   "execution_count": 2,
   "metadata": {},
   "outputs": [],
   "source": [
    "img_bgr = cv2.imread('./img/ame-gasho-25.png')\n",
    "# im_gray = cv2.imread('data/src/lena.jpg', 0 cv2.IMREAD_GRAYSCALE)\n",
    "\n"
   ]
  },
  {
   "cell_type": "code",
   "execution_count": 3,
   "metadata": {},
   "outputs": [
    {
     "name": "stdout",
     "output_type": "stream",
     "text": [
      "<class 'numpy.ndarray'>\n",
      "\n",
      "[[[156 149 132]\n",
      "  [156 148 133]\n",
      "  [156 148 132]\n",
      "  ...\n",
      "  [154 147 132]\n",
      "  [154 147 132]\n",
      "  [154 147 132]]\n",
      "\n",
      " [[157 149 133]\n",
      "  [156 148 132]\n",
      "  [156 148 132]\n",
      "  ...\n",
      "  [154 147 132]\n",
      "  [154 147 132]\n",
      "  [154 147 132]]\n",
      "\n",
      " [[157 149 133]\n",
      "  [157 149 133]\n",
      "  [157 149 133]\n",
      "  ...\n",
      "  [154 147 132]\n",
      "  [154 147 132]\n",
      "  [154 147 132]]\n",
      "\n",
      " ...\n",
      "\n",
      " [[ 55  73 152]\n",
      "  [ 54  72 152]\n",
      "  [ 64  84 173]\n",
      "  ...\n",
      "  [ 81 101 189]\n",
      "  [ 76  97 187]\n",
      "  [ 85 105 190]]\n",
      "\n",
      " [[ 59  78 161]\n",
      "  [ 52  69 144]\n",
      "  [ 51  69 144]\n",
      "  ...\n",
      "  [ 78  99 189]\n",
      "  [ 82 102 189]\n",
      "  [ 91 111 193]]\n",
      "\n",
      " [[ 63  85 174]\n",
      "  [ 57  76 157]\n",
      "  [ 56  74 153]\n",
      "  ...\n",
      "  [ 69  91 185]\n",
      "  [ 75  96 187]\n",
      "  [ 76  97 187]]]\n"
     ]
    }
   ],
   "source": [
    "print(type(img_bgr))\n",
    "# <class 'numpy.ndarray'>\n",
    "\n",
    "print()\n",
    "# (225, 400)\n",
    "\n",
    "print(img_bgr)\n",
    "# uint8"
   ]
  },
  {
   "cell_type": "code",
   "execution_count": null,
   "metadata": {},
   "outputs": [],
   "source": []
  },
  {
   "cell_type": "code",
   "execution_count": null,
   "metadata": {},
   "outputs": [],
   "source": []
  },
  {
   "cell_type": "code",
   "execution_count": null,
   "metadata": {},
   "outputs": [],
   "source": [
    "datetime_now = time.time();\n",
    "cv2.imwrite(str(datetime_now)+\"out.jpg\", img_bgr)\n"
   ]
  },
  {
   "cell_type": "code",
   "execution_count": null,
   "metadata": {},
   "outputs": [],
   "source": [
    "cv2.imshow(\"result\", img_bgr)\n",
    "cv2.waitKey(0)\n",
    "cv2.destroyAllWindows()\n"
   ]
  }
 ],
 "metadata": {
  "kernelspec": {
   "display_name": "Python 3",
   "language": "python",
   "name": "python3"
  },
  "language_info": {
   "codemirror_mode": {
    "name": "ipython",
    "version": 3
   },
   "file_extension": ".py",
   "mimetype": "text/x-python",
   "name": "python",
   "nbconvert_exporter": "python",
   "pygments_lexer": "ipython3",
   "version": "3.6.9"
  }
 },
 "nbformat": 4,
 "nbformat_minor": 4
}
