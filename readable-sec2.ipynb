{
 "cells": [
  {
   "cell_type": "code",
   "execution_count": null,
   "metadata": {},
   "outputs": [],
   "source": [
    "import os\n",
    "import cv2\n",
    "import time "
   ]
  },
  {
   "cell_type": "code",
   "execution_count": null,
   "metadata": {},
   "outputs": [],
   "source": [
    "# img_col = cv2.imread('./img/ame-gasho-25.png')\n",
    "img_color = cv2.imread('./img/be-gasho.jpg')\n",
    "\n",
    "# im_gray = cv2.imread('data/src/lena.jpg', 0 cv2.IMREAD_GRAYSCALE)\n",
    "# 上のはチート技。ノックでは使用禁止っぽいので\n"
   ]
  },
  {
   "cell_type": "code",
   "execution_count": null,
   "metadata": {},
   "outputs": [],
   "source": [
    "print(type(img_color))\n",
    "# <class 'numpy.ndarray'>が出れば正解\n",
    "\n",
    "print(img_color)\n",
    "# uint8がいっぱいでてくる"
   ]
  },
  {
   "cell_type": "code",
   "execution_count": null,
   "metadata": {},
   "outputs": [],
   "source": [
    "Blue = img_color[:,:,0].copy()\n",
    "Green = img_color[:,:,1].copy()\n",
    "Red = img_color[:,:,2].copy()\n",
    "\n",
    "img_gray = 0.2126 * Blue + 0.7152 * Green + 0.0722 * Red \n",
    "#  0.2126 R + 0.7152 G + 0.0722 B　でグレースケール画像が生成される"
   ]
  },
  {
   "cell_type": "code",
   "execution_count": null,
   "metadata": {},
   "outputs": [],
   "source": []
  },
  {
   "cell_type": "code",
   "execution_count": null,
   "metadata": {},
   "outputs": [],
   "source": [
    "datetime_now = time.time();\n",
    "cv2.imwrite(str(datetime_now)+\"out.jpg\", img_gray)\n",
    "# グレースケール　Notebook直下にタイムスタンプ付画像が書き出される"
   ]
  },
  {
   "cell_type": "code",
   "execution_count": null,
   "metadata": {},
   "outputs": [],
   "source": [
    "cv2.imshow(\"result\", img_bgr)\n",
    "cv2.waitKey(0)\n",
    "cv2.destroyAllWindows()\n"
   ]
  },
  {
   "cell_type": "code",
   "execution_count": null,
   "metadata": {},
   "outputs": [],
   "source": []
  }
 ],
 "metadata": {
  "kernelspec": {
   "display_name": "Python 3",
   "language": "python",
   "name": "python3"
  },
  "language_info": {
   "codemirror_mode": {
    "name": "ipython",
    "version": 3
   },
   "file_extension": ".py",
   "mimetype": "text/x-python",
   "name": "python",
   "nbconvert_exporter": "python",
   "pygments_lexer": "ipython3",
   "version": "3.6.9"
  }
 },
 "nbformat": 4,
 "nbformat_minor": 4
}
